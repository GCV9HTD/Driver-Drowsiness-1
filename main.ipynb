{
 "cells": [
  {
   "cell_type": "code",
   "execution_count": 1,
   "metadata": {},
   "outputs": [
    {
     "name": "stderr",
     "output_type": "stream",
     "text": [
      "Using TensorFlow backend.\n"
     ]
    },
    {
     "name": "stdout",
     "output_type": "stream",
     "text": [
      "pygame 1.9.6\n",
      "Hello from the pygame community. https://www.pygame.org/contribute.html\n"
     ]
    }
   ],
   "source": [
    "import cv2\n",
    "import os\n",
    "import time\n",
    "import numpy as np\n",
    "from keras.models import load_model\n",
    "from pygame import mixer"
   ]
  },
  {
   "cell_type": "code",
   "execution_count": 2,
   "metadata": {},
   "outputs": [],
   "source": [
    "mixer.init()\n",
    "alarm_sound = mixer.Sound('alarm.wav')"
   ]
  },
  {
   "cell_type": "code",
   "execution_count": 3,
   "metadata": {},
   "outputs": [],
   "source": [
    "haar_cascade_face = cv2.CascadeClassifier('haar_cascade_files\\haarcascade_frontalface_alt.xml')\n",
    "haar_cascade_left_eye = cv2.CascadeClassifier('haar_cascade_files\\haarcascade_lefteye_2splits.xml')\n",
    "haar_cascade_right_eye = cv2.CascadeClassifier('haar_cascade_files\\haarcascade_righteye_2splits.xml')"
   ]
  },
  {
   "cell_type": "code",
   "execution_count": 9,
   "metadata": {},
   "outputs": [],
   "source": [
    "model = load_model('model/cnn_model.h5')"
   ]
  },
  {
   "cell_type": "code",
   "execution_count": 10,
   "metadata": {},
   "outputs": [],
   "source": [
    "path_cwd = os.getcwd()\n",
    "font = cv2.FONT_HERSHEY_COMPLEX_SMALL\n",
    "thickness = 2\n",
    "score = 0\n",
    "left_eye_prediction = [99]\n",
    "right_eye_prediction = [99]"
   ]
  },
  {
   "cell_type": "code",
   "execution_count": 18,
   "metadata": {},
   "outputs": [
    {
     "name": "stdout",
     "output_type": "stream",
     "text": [
      "1584359698.3206842\n"
     ]
    }
   ],
   "source": [
    "l = time.time()\n",
    "print(l)"
   ]
  },
  {
   "cell_type": "code",
   "execution_count": 12,
   "metadata": {},
   "outputs": [
    {
     "name": "stdout",
     "output_type": "stream",
     "text": [
      "12\n",
      "11\n",
      "11\n",
      "12\n",
      "13\n",
      "14\n",
      "15\n",
      "16\n",
      "17\n",
      "18\n",
      "19\n",
      "20\n",
      "21\n",
      "22\n",
      "23\n",
      "24\n",
      "25\n",
      "26\n",
      "27\n",
      "28\n",
      "27\n",
      "26\n",
      "25\n",
      "24\n",
      "23\n",
      "22\n",
      "21\n",
      "20\n",
      "19\n",
      "18\n",
      "17\n",
      "16\n",
      "15\n",
      "14\n",
      "13\n",
      "12\n",
      "11\n",
      "11\n",
      "12\n",
      "13\n",
      "14\n",
      "15\n",
      "16\n",
      "17\n",
      "18\n",
      "19\n",
      "20\n",
      "21\n",
      "22\n",
      "23\n",
      "24\n",
      "25\n",
      "26\n",
      "27\n",
      "28\n",
      "29\n",
      "28\n",
      "27\n",
      "26\n",
      "25\n",
      "24\n",
      "23\n",
      "22\n",
      "21\n",
      "20\n",
      "19\n",
      "18\n",
      "17\n",
      "16\n",
      "15\n",
      "14\n",
      "13\n",
      "12\n",
      "11\n"
     ]
    }
   ],
   "source": [
    "image_video = cv2.VideoCapture(0)\n",
    "while(True):\n",
    "    ret, frame = image_video.read()\n",
    "    height, width = frame.shape[:2] \n",
    "\n",
    "    gray_image = cv2.cvtColor(frame, cv2.COLOR_BGR2GRAY)\n",
    "    \n",
    "    faces = haar_cascade_face.detectMultiScale(gray_image, minNeighbors=5, scaleFactor=1.1, minSize=(25,25))\n",
    "    left_eye = haar_cascade_left_eye.detectMultiScale(gray_image)\n",
    "    right_eye = haar_cascade_right_eye.detectMultiScale(gray_image)\n",
    "\n",
    "    cv2.rectangle(frame, (0,height-50) , (200,height) , (0,0,0) , thickness=cv2.FILLED )\n",
    "\n",
    "    for (x,y,w,h) in faces:\n",
    "        cv2.rectangle(frame, (x,y) , (x+w,y+h) , (100,100,100) , 1 )\n",
    "\n",
    "    for (x,y,w,h) in right_eye:\n",
    "        right_eye_value = frame[y:y+h,x:x+w]        \n",
    "        right_eye_value = cv2.cvtColor(right_eye_value, cv2.COLOR_BGR2GRAY)\n",
    "        right_eye_value = cv2.resize(right_eye_value,(24,24))\n",
    "        right_eye_value = right_eye_value/255\n",
    "        right_eye_value = right_eye_value.reshape(24,24,-1)\n",
    "        right_eye_value = np.expand_dims(right_eye_value,axis=0)\n",
    "        right_eye_prediction = model.predict_classes(right_eye_value)\n",
    "        break\n",
    "\n",
    "    for (x,y,w,h) in left_eye:\n",
    "        left_eye_value = frame[y:y+h,x:x+w]        \n",
    "        left_eye_value = cv2.cvtColor(left_eye_value, cv2.COLOR_BGR2GRAY)  \n",
    "        left_eye_value = cv2.resize(left_eye_value, (24,24))\n",
    "        left_eye_value = left_eye_value/255\n",
    "        left_eye_value = left_eye_value.reshape(24,24,-1)\n",
    "        left_eye_value = np.expand_dims(left_eye_value,axis=0)\n",
    "        left_eye_prediction = model.predict_classes(left_eye_value)\n",
    "        break\n",
    "    \n",
    "    \n",
    "    if(right_eye_prediction[0] == 0 and left_eye_prediction[0] == 0):\n",
    "        score = score + 1\n",
    "        cv2.putText(frame, \"Eye Closed\", (10, height - 20), font, 1, (255,255,255), 1, cv2.LINE_AA)    \n",
    "    else:\n",
    "        score = score - 1\n",
    "        cv2.putText(frame, \"Eye Opened\", (10, height - 20), font, 1,(255,255,255), 1, cv2.LINE_AA)\n",
    "         \n",
    "    if(score < 0):\n",
    "        score = 0\n",
    "        alarm_sound.stop()\n",
    "        \n",
    "    cv2.putText(frame, 'Score:'+str(score), (100,height-20), font, 1,(255,255,255),1,cv2.LINE_AA)\n",
    "    \n",
    "    if(score > 15):\n",
    "        #person is feeling sleepy so we beep the alarm\n",
    "        #cv2.imwrite(os.path.join(path_cwd,'image.jpg'),frame)\n",
    "        try:\n",
    "            alarm_sound.play()            \n",
    "        except:\n",
    "            pass\n",
    "        if(thickness < 16):\n",
    "            thickness= thickness +2\n",
    "        else:\n",
    "            thickness = thickness - 2\n",
    "            if(thickness < 2):\n",
    "                thickness = 2\n",
    "        cv2.rectangle(frame, (0,0), (width,height), (0,0,255), thickness) \n",
    "    cv2.imshow('Driver Drowsiness Detection',frame)\n",
    "    if cv2.waitKey(1) & 0xFF == ord('q'):\n",
    "        break\n",
    "image_video.release()\n",
    "cv2.destroyAllWindows()"
   ]
  },
  {
   "cell_type": "code",
   "execution_count": null,
   "metadata": {},
   "outputs": [],
   "source": []
  }
 ],
 "metadata": {
  "kernelspec": {
   "display_name": "Python 3",
   "language": "python",
   "name": "python3"
  },
  "language_info": {
   "codemirror_mode": {
    "name": "ipython",
    "version": 3
   },
   "file_extension": ".py",
   "mimetype": "text/x-python",
   "name": "python",
   "nbconvert_exporter": "python",
   "pygments_lexer": "ipython3",
   "version": "3.7.4"
  }
 },
 "nbformat": 4,
 "nbformat_minor": 4
}
